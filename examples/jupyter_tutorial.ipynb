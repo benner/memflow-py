{
 "cells": [
  {
   "attachments": {},
   "cell_type": "markdown",
   "id": "3cc861d1",
   "metadata": {},
   "source": [
    "First we will be setting up all imports and set up basic logging:"
   ]
  },
  {
   "cell_type": "code",
   "execution_count": null,
   "id": "a38e057e-eecf-445d-9d18-bb8888625de1",
   "metadata": {},
   "outputs": [],
   "source": [
    "from memflow import *\n",
    "from ctypes import *\n",
    "import logging\n",
    "\n",
    "FORMAT = \"%(levelname)s %(name)s %(asctime)-15s %(filename)s:%(lineno)d %(message)s\"\n",
    "logging.basicConfig(format=FORMAT)\n",
    "logging.getLogger().setLevel(logging.INFO)"
   ]
  },
  {
   "attachments": {},
   "cell_type": "markdown",
   "id": "3ad5b916",
   "metadata": {},
   "source": [
    "The first step towards memflow is then creating an Inventory. The Inventory contains a list of all connectors found on the System:"
   ]
  },
  {
   "cell_type": "code",
   "execution_count": null,
   "id": "454c4dcc",
   "metadata": {},
   "outputs": [],
   "source": [
    "inventory = Inventory()"
   ]
  },
  {
   "attachments": {},
   "cell_type": "markdown",
   "id": "bf27f6ba",
   "metadata": {},
   "source": [
    "The next step is creating an actual connector. Memflow connectors are used to acquire physical memory of a device. Examples of connectors are: kvm, qemu, pcileech, coredump, ...\n",
    "\n",
    "The arguments are provided as triplet, they use the following form:\n",
    "\n",
    "```\n",
    "{connector}:{target}:{arg1},{arg2},{arg3}\n",
    "```\n",
    "\n",
    "Where `target` is the name of the target (in case the connector supports multiple targets).\n",
    "Where `arg1`, `arg2` and `arg3` use a `key=value` format like `device=FPGA`\n",
    "\n",
    "Here we are loading the `kvm` connector and letting it connect to a virtual machine with the name `win11` as the target."
   ]
  },
  {
   "cell_type": "code",
   "execution_count": null,
   "id": "b7b091f3",
   "metadata": {},
   "outputs": [],
   "source": [
    "conn = inventory.connector(\"kvm\", \":win11:\")\n"
   ]
  },
  {
   "attachments": {},
   "cell_type": "markdown",
   "id": "2c510e26",
   "metadata": {},
   "source": [
    "The next step is to utilize the previously created connector to initialize an OS. In the given example we try to find Windows running in memory. "
   ]
  },
  {
   "cell_type": "code",
   "execution_count": null,
   "id": "397ab78a-3faa-428a-93b8-d4b152bcbee2",
   "metadata": {},
   "outputs": [],
   "source": [
    "os = inventory.os(\"win32\", conn)"
   ]
  },
  {
   "attachments": {},
   "cell_type": "markdown",
   "id": "eeda98ad",
   "metadata": {},
   "source": [
    "You can now access drivers and processes on the target. In the windows (and memflow) world drivers are just modules of the root process (in the case of Windows all drivers are modules of the ntoskrnl.exe kernel process). The following example shows how to list all running drivers:"
   ]
  },
  {
   "cell_type": "code",
   "execution_count": null,
   "id": "27987be4",
   "metadata": {},
   "outputs": [],
   "source": [
    "from pprint import pprint\n",
    "\n",
    "drivers = os.module_info_list()\n",
    "for driver in drivers: # TODO: implement str for module list\n",
    "    pprint(driver.name)"
   ]
  },
  {
   "attachments": {},
   "cell_type": "markdown",
   "id": "3a2fc7e9",
   "metadata": {},
   "source": [
    "To access the memory of a driver or process you have to open the corresponding process:"
   ]
  },
  {
   "cell_type": "code",
   "execution_count": null,
   "id": "88aa478d-d24c-46d0-b419-3310663834fd",
   "metadata": {},
   "outputs": [],
   "source": [
    "kernel = os # TODO:\n",
    "process = os.process_from_name(\"explorer.exe\")"
   ]
  },
  {
   "cell_type": "code",
   "execution_count": null,
   "id": "686addaa-ea2e-4291-94b7-832b99b1e344",
   "metadata": {},
   "outputs": [],
   "source": [
    "from pprint import pprint\n",
    "\n",
    "# List all modules in the process:\n",
    "modules = process.module_info_list()\n",
    "for mod in modules: # TODO: implement str for module list\n",
    "    pprint(mod.name)"
   ]
  },
  {
   "cell_type": "code",
   "execution_count": null,
   "id": "37fe5bdc-6d6f-42e5-bf21-a88f11971eaf",
   "metadata": {},
   "outputs": [],
   "source": [
    "# Load module 'Explorer.EXE':\n",
    "module = process.module_from_name(\"Explorer.EXE\")"
   ]
  },
  {
   "cell_type": "code",
   "execution_count": null,
   "id": "b67080f8-d20b-4b77-963b-0f4ee274ede2",
   "metadata": {},
   "outputs": [],
   "source": [
    "# Define COFF Header struct and read it from the module:\n",
    "class COFFHeader(Structure):\n",
    "    _fields_ = [\n",
    "        (\"_pad0x0\", c_uint8 * 6),\n",
    "        (\"sections\", c_uint16),\n",
    "        (\"timestamp\", c_uint32),\n",
    "    ]\n",
    "\n",
    "    def __str__(self):\n",
    "        return f\"{self.sections}, {self.timestamp}\"\n",
    "\n",
    "header = process.read(module.base + 0x40, COFFHeader)\n",
    "print(header)"
   ]
  }
 ],
 "metadata": {
  "kernelspec": {
   "display_name": "Python 3",
   "language": "python",
   "name": "python3"
  },
  "language_info": {
   "codemirror_mode": {
    "name": "ipython",
    "version": 3
   },
   "file_extension": ".py",
   "mimetype": "text/x-python",
   "name": "python",
   "nbconvert_exporter": "python",
   "pygments_lexer": "ipython3",
   "version": "3.10.8"
  },
  "vscode": {
   "interpreter": {
    "hash": "767d51c1340bd893661ea55ea3124f6de3c7a262a8b4abca0554b478b1e2ff90"
   }
  }
 },
 "nbformat": 4,
 "nbformat_minor": 5
}
